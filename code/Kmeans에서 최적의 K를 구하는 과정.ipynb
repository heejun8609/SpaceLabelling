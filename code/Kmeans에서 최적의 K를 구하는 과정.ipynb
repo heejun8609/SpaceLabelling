{
 "cells": [
  {
   "cell_type": "code",
   "execution_count": 1,
   "metadata": {
    "collapsed": false
   },
   "outputs": [],
   "source": [
    "#라이브러리불러오기\n",
    "import pandas as pd\n",
    "import numpy as np\n",
    "from konlpy.tag import Twitter\n",
    "from konlpy.utils import pprint\n",
    "from gensim import models\n",
    "import matplotlib.pyplot as plt\n",
    "%matplotlib inline\n",
    "import matplotlib"
   ]
  },
  {
   "cell_type": "code",
   "execution_count": 2,
   "metadata": {
    "collapsed": false
   },
   "outputs": [],
   "source": [
    "#크롤링 결과 열어서 포스팅 단위로 불리 저장\n",
    "doc =open('뚝섬역.csv')\n",
    "data = doc.read()\n",
    "doc.close()\n",
    "phrase = data.split('\\n')"
   ]
  },
  {
   "cell_type": "code",
   "execution_count": 3,
   "metadata": {
    "collapsed": false
   },
   "outputs": [],
   "source": [
    "#포스팅에서 한글 외 문자 제거\n",
    "import re\n",
    "hangul = re.compile('[^ ㄱ-ㅣ가-힣]+')\n"
   ]
  },
  {
   "cell_type": "code",
   "execution_count": 4,
   "metadata": {
    "collapsed": false
   },
   "outputs": [
    {
     "name": "stdout",
     "output_type": "stream",
     "text": [
      "[[('아아', 'Noun'), ('점심', 'Noun'), ('부터', 'Josa'), ('삼겹살', 'Noun'), ('무한리필', 'Noun'), ('흡입', 'Noun'), ('하다', 'Verb'), ('치아', 'Noun'), ('씨드', 'Noun'), ('를', 'Josa'), ('분명', 'Noun'), ('방금', 'Noun'), ('마켓', 'Noun'), ('에서', 'Josa'), ('사다', 'Verb'), ('말', 'Noun'), ('이지', 'Noun'), ('오늘', 'Noun'), ('도', 'Josa'), ('늦다', 'Verb'), ('일', 'Noun'), ('하니', 'Noun'), ('먹다', 'Verb'), ('뭐', 'Noun'), ('삼겹살', 'Noun'), ('고기', 'Noun'), ('무한리필', 'Noun'), ('치아', 'Noun'), ('씨드', 'Noun'), ('냠냠', 'Adverb'), ('다이어트', 'Noun'), ('셀카', 'Noun'), ('뚝섬역', 'Noun'), ('성수동', 'Noun'), ('맛집', 'Noun'), ('공감', 'Noun'), ('인친', 'Noun'), ('맞팔', 'Noun'), ('소통', 'Noun'), ('가을', 'Noun')], [('호박고구마', 'Noun'), ('파운드', 'Noun'), ('케익', 'Noun'), ('소량', 'Noun'), ('준비', 'Noun'), ('되다', 'Verb'), ('있다', 'Adjective'), ('제', 'Noun'), ('스타일', 'Noun'), ('대로', 'Josa'), ('담', 'Noun'), ('백', 'Suffix'), ('하다', 'Verb'), ('커피', 'Noun'), ('식탁', 'Noun'), ('성수동', 'Noun'), ('카페', 'Noun'), ('뚝섬역', 'Noun'), ('카페', 'Noun'), ('성수동', 'Noun'), ('뚝섬역', 'Noun'), ('서울숲', 'Noun'), ('서울숲', 'Noun'), ('역', 'Noun'), ('호박고구마', 'Noun'), ('파운드', 'Noun'), ('고구마', 'Noun'), ('가', 'Josa'), ('맛', 'Noun'), ('난', 'Josa'), ('계절', 'Noun'), ('내일', 'Noun'), ('은', 'Josa'), ('연남', 'Noun'), ('점', 'Noun'), ('에서도', 'Josa')], [('사무실', 'Noun'), ('에', 'Josa'), ('카페', 'Noun'), ('용', 'Noun'), ('커피', 'Noun'), ('머신', 'Noun'), ('이', 'Josa'), ('있다', 'Adjective'), ('이상하다', 'Adjective'), ('자꾸', 'Noun'), ('밖', 'Noun'), ('에서', 'Josa'), ('사마', 'Noun'), ('시', 'Noun'), ('게', 'Josa'), ('되다', 'Verb'), ('직원', 'Noun'), ('들', 'Suffix'), ('힘내다', 'Verb'), ('포장', 'Noun'), ('오늘', 'Noun'), ('도', 'Josa'), ('힘내다', 'Verb'), ('내일', 'Noun'), ('부터는', 'Josa'), ('주말', 'Noun'), ('이니', 'Josa'), ('성수동', 'Noun'), ('뚝섬역', 'Noun'), ('사무실', 'Noun'), ('커피', 'Noun'), ('아메리카노', 'Noun')]]\n"
     ]
    }
   ],
   "source": [
    "#형태소 문장 단위 추출\n",
    "dic_Twitter = []\n",
    "for i in range(len(phrase)):\n",
    "    p = hangul.sub(' ', phrase[i])\n",
    "    s = Twitter().pos(p, stem=True, norm=True)  ##norm, stem 옵션 추가\n",
    "    dic_Twitter.append(s)\n",
    "print(dic_Twitter[:3])"
   ]
  },
  {
   "cell_type": "code",
   "execution_count": 5,
   "metadata": {
    "collapsed": false,
    "scrolled": false
   },
   "outputs": [
    {
     "name": "stdout",
     "output_type": "stream",
     "text": [
      "[['아아', '점심', '삼겹살', '무한리필', '흡입', '치아', '씨드', '분명', '방금', '마켓', '말', '이지', '오늘', '일', '하니', '뭐', '삼겹살', '고기', '무한리필', '치아', '씨드', '다이어트', '셀카', '뚝섬역', '성수동', '맛집', '공감', '인친', '맞팔', '소통', '가을'], ['호박고구마', '파운드', '케익', '소량', '준비', '있다', '제', '스타일', '담', '커피', '식탁', '성수동', '카페', '뚝섬역', '카페', '성수동', '뚝섬역', '서울숲', '서울숲', '역', '호박고구마', '파운드', '고구마', '맛', '계절', '내일', '연남', '점'], ['사무실', '카페', '용', '커피', '머신', '있다', '이상하다', '자꾸', '밖', '사마', '시', '직원', '포장', '오늘', '내일', '주말', '성수동', '뚝섬역', '사무실', '커피', '아메리카노']]\n"
     ]
    }
   ],
   "source": [
    "#형용사와 명사 단어만 문장별로 추출\n",
    "dic_ad_noun=[]\n",
    "for twit in dic_Twitter:\n",
    "    c = [x[0] for x in twit if x[1] ==\"Adjective\" or x[1] == \"Noun\"]\n",
    "    dic_ad_noun.append(c)\n",
    "print(dic_ad_noun[:3])"
   ]
  },
  {
   "cell_type": "markdown",
   "metadata": {},
   "source": [
    "# word2vec으로 단어과 가까운 단어 출력해보기"
   ]
  },
  {
   "cell_type": "code",
   "execution_count": 6,
   "metadata": {
    "collapsed": false
   },
   "outputs": [],
   "source": [
    "#word2vec으로 단어를 공간에 뿌리기 \n",
    "#size는 차원의 크기, 결과를 보고 결정하자\n",
    "w2v = models.Word2Vec(dic_ad_noun, size=100)"
   ]
  },
  {
   "cell_type": "markdown",
   "metadata": {},
   "source": [
    "# K means로 클러스터링 해보기"
   ]
  },
  {
   "cell_type": "code",
   "execution_count": 9,
   "metadata": {
    "collapsed": false,
    "scrolled": true
   },
   "outputs": [
    {
     "name": "stderr",
     "output_type": "stream",
     "text": [
      "C:\\Anaconda3\\lib\\site-packages\\matplotlib\\font_manager.py:273: UserWarning: Matplotlib is building the font cache using fc-list. This may take a moment.\n",
      "  warnings.warn('Matplotlib is building the font cache using fc-list. This may take a moment.')\n"
     ]
    }
   ],
   "source": [
    "#K means 시각화\n",
    "from matplotlib import font_manager, rc\n",
    "font_name = font_manager.FontProperties(fname=\"C:\\\\Windows\\\\Fonts\\\\malgun.ttf\").get_name()\n",
    "rc('font', family=font_name)\n",
    "flist = matplotlib.font_manager.get_fontconfig_fonts()"
   ]
  },
  {
   "cell_type": "code",
   "execution_count": 10,
   "metadata": {
    "collapsed": false
   },
   "outputs": [],
   "source": [
    "#K means를 위해  TSNE로 다차원상에 있는 데이터를 평면에 흩어지게 표현\n",
    "from sklearn.manifold import TSNE\n",
    "tsne = TSNE()\n",
    "textplot = tsne.fit_transform(w2v[w2v.index2word])"
   ]
  },
  {
   "cell_type": "code",
   "execution_count": 11,
   "metadata": {
    "collapsed": true
   },
   "outputs": [],
   "source": [
    "from sklearn import metrics\n",
    "from sklearn.cluster import KMeans"
   ]
  },
  {
   "cell_type": "code",
   "execution_count": 12,
   "metadata": {
    "collapsed": false
   },
   "outputs": [],
   "source": [
    "#목적함수(목적하는 분류단위, K)가 없을 때, K maens에 사용할 최적화된 K를 찾는다. 클러스터 내 분산과 외에 분산의 관계를 고려하여\n",
    "k_range = range(1,50)\n",
    "k_means_var = [KMeans(n_clusters=k).fit(textplot) for k in k_range]\n",
    "centroids = [X.cluster_centers_ for X in k_means_var]\n",
    "\n",
    "from scipy.spatial.distance import cdist, pdist\n",
    "\n",
    "k_euclid = [cdist(textplot, cent, 'euclidean') for cent in centroids]\n",
    "\n",
    "dist = [np.min(ke, axis=1) for ke in k_euclid]\n",
    "\n",
    "wcss = [sum(d**2) for d in dist]\n",
    "\n",
    "tss = sum(pdist(textplot)**2) / np.array(textplot).shape[0]\n",
    "\n",
    "bss = tss - wcss"
   ]
  },
  {
   "cell_type": "code",
   "execution_count": 13,
   "metadata": {
    "collapsed": false
   },
   "outputs": [
    {
     "data": {
      "text/plain": [
       "(0, 20)"
      ]
     },
     "execution_count": 13,
     "metadata": {},
     "output_type": "execute_result"
    },
    {
     "data": {
      "image/png": "[encoded data removed]",
      "text/plain": [
       "<matplotlib.figure.Figure at 0x57b3518>"
      ]
     },
     "metadata": {},
     "output_type": "display_data"
    }
   ],
   "source": [
    "#K에 따른 결과 그래프로 표현\n",
    "#이 경우에는 10이상에서는 결과가 거의 변하지 않기 때문에 8~10정도의 k를 사용하면 좋다\n",
    "plt.plot(k_range, bss, marker=\"o\")\n",
    "plt.xlim((0,20))  #X축 범위"
   ]
  }
 ],
 "metadata": {
  "anaconda-cloud": {},
  "kernelspec": {
   "display_name": "Python [Root]",
   "language": "python",
   "name": "Python [Root]"
  },
  "language_info": {
   "codemirror_mode": {
    "name": "ipython",
    "version": 3
   },
   "file_extension": ".py",
   "mimetype": "text/x-python",
   "name": "python",
   "nbconvert_exporter": "python",
   "pygments_lexer": "ipython3",
   "version": "3.5.2"
  }
 },
 "nbformat": 4,
 "nbformat_minor": 0
}
